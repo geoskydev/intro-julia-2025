{
 "cells": [
  {
   "cell_type": "markdown",
   "id": "3c7327e5",
   "metadata": {},
   "source": [
    "# Análisis de datos con Julia\n",
    "\n",
    "Tutorial práctico (≈ 3 horas) para aprender manejo de datos en Julia. Este notebook está pensado para ejecutarse desde Google Colab (verificar que el runtime kernel sea Julia), donde todos los paquetes ya vienen preinstalados.\n",
    "\n",
    "Contenido:\n",
    "1. Cargar y explorar datos\n",
    "2. Limpieza y transformación\n",
    "3. Agrupamiento y resumen\n",
    "4. Visualización\n",
    "5. Joins y múltiples tablas\n",
    "\n",
    "---"
   ]
  },
  {
   "cell_type": "markdown",
   "id": "359de620",
   "metadata": {},
   "source": [
    "## 1. Revision del entorno\n",
    "\n",
    "Verificamos los paquetes que estan dispopnibles en Google Colab. Si necesitamos instalar un paquete no disponible, utlizamos la instruccion `] add NombrePaquete`."
   ]
  },
  {
   "cell_type": "code",
   "execution_count": null,
   "id": "03bc339f",
   "metadata": {},
   "outputs": [],
   "source": [
    "# Verificar la version de Julia\n",
    "println(\"Julia: \", VERSION)"
   ]
  },
  {
   "cell_type": "code",
   "execution_count": null,
   "id": "6c7b3a86",
   "metadata": {},
   "outputs": [],
   "source": [
    "# Verificar paquetes disponibles\n",
    "using Pkg\n",
    "Pkg.status()"
   ]
  },
  {
   "cell_type": "code",
   "execution_count": null,
   "id": "8269e98c",
   "metadata": {},
   "outputs": [],
   "source": [
    "# Instalar paquetes\n",
    "] add CairoMakie\n",
    "\n",
    "# Importar paquetes\n",
    "using DataFrames, CairoMakie\n"
   ]
  },
  {
   "cell_type": "code",
   "execution_count": null,
   "id": "79668613",
   "metadata": {},
   "outputs": [],
   "source": [
    "seconds = 0:0.1:2\n",
    "measurements = [8.2, 8.4, 6.3, 9.5, 9.1, 10.5, 8.6, 8.2, 10.5, 8.5, 7.2,\n",
    "        8.8, 9.7, 10.8, 12.5, 11.6, 12.1, 12.1, 15.1, 14.7, 13.1]\n",
    "lines(seconds, measurements)"
   ]
  },
  {
   "cell_type": "code",
   "execution_count": null,
   "id": "b6807374",
   "metadata": {},
   "outputs": [],
   "source": [
    "using Plots\n",
    "Plots.plot(seconds, measurements, label=\"Mediciones\", xlabel=\"Tiempo (s)\", ylabel=\"Valor\", title=\"Mediciones en función del tiempo\", legend=:topright)"
   ]
  },
  {
   "cell_type": "code",
   "execution_count": null,
   "id": "dc9b346b",
   "metadata": {},
   "outputs": [],
   "source": [
    "# Paquetes principales (no ejecutes Pkg.add aquí si ya tienes los paquetes en el entorno).\n",
    "using DataFrames, CSV, CategoricalArrays, Statistics, Dates, Downloads, Random\n",
    "# Para gráficas opcionalmente\n",
    "# using StatsPlots\n",
    "\n",
    "println(\"Julia: \", VERSION)\n",
    "println(\"Paquetes: DataFrames, CSV, CategoricalArrays, Statistics, Dates, Downloads\")"
   ]
  },
  {
   "cell_type": "markdown",
   "id": "63d015bb",
   "metadata": {},
   "source": [
    "## 2) Cargar y explorar datos públicos (45 min)\n",
    "\n",
    "Descargaremos dos datasets públicos: Titanic (fila por pasajero) y Gapminder (indicadores por país/año)."
   ]
  },
  {
   "cell_type": "code",
   "execution_count": null,
   "id": "8d602f99",
   "metadata": {},
   "outputs": [],
   "source": [
    "# URLs de datasets públicos (raw GitHub)\n",
    "titanic_url = \"https://raw.githubusercontent.com/datasciencedojo/datasets/master/titanic.csv\"\n",
    "gapminder_url = \"https://raw.githubusercontent.com/resbaz/r-novice-gapminder-files/master/data/gapminder-FiveYearData.csv\"\n",
    "\n",
    "# Descargar a archivos temporales y leerlos\n",
    "titanic_file = Downloads.download(titanic_url)\n",
    "gapminder_file = Downloads.download(gapminder_url)\n",
    "\n",
    "df_titanic = CSV.read(titanic_file, DataFrame)\n",
    "df_gap = CSV.read(gapminder_file, DataFrame)\n",
    "\n",
    "println(\"Titanic: rows=\", nrow(df_titanic), \" cols=\", ncol(df_titanic))\n",
    "println(\"Gapminder: rows=\", nrow(df_gap), \" cols=\", ncol(df_gap))\n",
    "\n",
    "first(df_titanic, 6), first(df_gap, 6)"
   ]
  },
  {
   "cell_type": "markdown",
   "id": "f5efac0a",
   "metadata": {},
   "source": [
    "Exploración rápida: tipos de columnas, conteo de valores faltantes y vista general con `describe`."
   ]
  },
  {
   "cell_type": "code",
   "execution_count": null,
   "id": "e12bedb7",
   "metadata": {},
   "outputs": [],
   "source": [
    "# Estructura y tipos\n",
    "println(\"Titanic columns:\")\n",
    "show(names(df_titanic))\n",
    "println()\n",
    "println(map(col->eltype(df_titanic[!,col]), names(df_titanic)))\n",
    "\n",
    "# Conteo de missings por columna\n",
    "miss_tit = Dict(col => count(ismissing, df_titanic[!, col]) for col in names(df_titanic))\n",
    "miss_gap = Dict(col => count(ismissing, df_gap[!, col]) for col in names(df_gap))\n",
    "println(\"Missings Titanic:\", miss_tit)\n",
    "println(\"Missings Gapminder:\", miss_gap)\n",
    "\n",
    "# Resumen estadístico de variables numéricas\n",
    "describe(df_titanic)\n"
   ]
  },
  {
   "cell_type": "markdown",
   "id": "e0117dde",
   "metadata": {},
   "source": [
    "## 3) Limpieza y transformación (60 min)\n",
    "\n",
    "Mostraremos técnicas comunes: tratamiento de missings, conversión de tipos, creación de columnas derivadas y filtros."
   ]
  },
  {
   "cell_type": "code",
   "execution_count": null,
   "id": "9562747e",
   "metadata": {},
   "outputs": [],
   "source": [
    "# Copiamos para no mutar el original durante la práctica\n",
    "df = copy(df_titanic)\n",
    "\n",
    "# 1) Convertir algunas columnas a categóricas\n",
    "df.Sex = CategoricalArray(df.Sex)\n",
    "df.Pclass = CategoricalArray(string.(df.Pclass))  # tratar clase como categoría\n",
    "\n",
    "# 2) Missings: 'Age' tiene missings; imputaremos con la mediana por Pclass+Sex\n",
    "using Statistics\n",
    "median_age = median(skipmissing(df.Age))\n",
    "# imputación simple global (ejemplo)\n",
    "df.Age = coalesce.(df.Age, median_age),\n",
    "# Nota: mostramos alternativa por grupo (más abajo)\n",
    "\n",
    "# 3) Crear columnas derivadas: edad agrupada y indicador de viajero solo\n",
    "df.age_group = cut(df.Age, 0:10:80; labels=false)\n",
    "df.is_alone = (df.SibSp .+ df.Parch) .== 0\n",
    "\n",
    "# 4) Filtrar y ordenar ejemplos\n",
    "adultos = filter(:Age => x -> x .>= 18, df)\n",
    "ordenados = sort(df, [:Pclass, :Age], rev=(false,true))\n",
    "\n",
    "first(adultos,6)\n"
   ]
  },
  {
   "cell_type": "markdown",
   "id": "94b3c858",
   "metadata": {},
   "source": [
    "## 4) Agrupamiento y resumen (45 min)\n",
    "\n",
    "Uso de `groupby` y `combine` para calcular tasas y resúmenes por grupo."
   ]
  },
  {
   "cell_type": "code",
   "execution_count": null,
   "id": "d259cbb7",
   "metadata": {},
   "outputs": [],
   "source": [
    "# Tasa de supervivencia por sexo y clase\n",
    "g = groupby(df, [:Sex, :Pclass])\n",
    "res = combine(g, nrow => :n, :Survived => x -> mean(x) => :survival_rate, :Age => mean => :mean_age)\n",
    "res\n",
    "\n",
    "# Resumen por edad agrupada\n",
    "g2 = groupby(df, :age_group)\n",
    "res2 = combine(g2, nrow => :n, :Survived => x-> mean(x) => :survival_rate)\n",
    "first(res2, 10)"
   ]
  },
  {
   "cell_type": "markdown",
   "id": "817e8d42",
   "metadata": {},
   "source": [
    "## 5) Visualización básica (30 min)\n",
    "\n",
    "Ejemplos rápidos con `StatsPlots` (si está disponible). En Colab puede que necesites un backend gráfico compatible con IJulia."
   ]
  },
  {
   "cell_type": "code",
   "execution_count": null,
   "id": "e6666fa3",
   "metadata": {},
   "outputs": [],
   "source": [
    "# Gráficos: supervivencia por edad y clase (si StatsPlots está disponible)\n",
    "try\n",
    "    using StatsPlots\n",
    "    @df df scatter(:Age, :Survived, group=:Pclass, ms=3, title=\"Survived vs Age (por Pclass)\")\n",
    "    @df df boxplot(:Pclass, :Age, title=\"Distribución de edad por clase\")\n",
    "catch e\n",
    "    println(\"StatsPlots no disponible en este kernel: \", e)\n",
    "end"
   ]
  },
  {
   "cell_type": "markdown",
   "id": "ead135d4",
   "metadata": {},
   "source": [
    "## 6) Joins y trabajo con múltiples tablas (20 min)\n",
    "\n",
    "Mostraremos un ejemplo simple de join: mapear códigos de embarque a nombres de puerto."
   ]
  },
  {
   "cell_type": "code",
   "execution_count": null,
   "id": "5ab1e7b5",
   "metadata": {},
   "outputs": [],
   "source": [
    "# Creamos una tabla auxiliar para 'Embarked'\n",
    "ports = DataFrame(Embarked=[\"C\",\"Q\",\"S\"], port_name=[\"Cherbourg\", \"Queenstown\", \"Southampton\"])\n",
    "# 'Embarked' en el dataset original es una columna de caracteres; normalizamos y hacemos join\n",
    "df2 = copy(df)\n",
    "df2.Embarked = CategoricalArray(string.(df2.Embarked))\n",
    "joined = leftjoin(df2, ports, on = :Embarked)\n",
    "first(joined,8)"
   ]
  },
  {
   "cell_type": "markdown",
   "id": "d93f92dc",
   "metadata": {},
   "source": [
    "## 7) Ejercicios guiados (25 min)\n",
    "\n",
    "Prueba primero, luego mira las soluciones en la celda siguiente."
   ]
  },
  {
   "cell_type": "markdown",
   "id": "2f559dde",
   "metadata": {},
   "source": [
    "Ejercicios:\n",
    "1. Calcular el porcentaje de supervivientes por `Pclass` y `Sex` (ordenar resultados).\n",
    "2. Crear una columna `fare_per_person` approximando `Fare / (SibSp + Parch + 1)`, y mostrar estadísticos por `Pclass`.\n",
    "3. Usando `df_gap`, calcular el crecimiento promedio del GDP per capita (gdpPercap) por continente entre 1952 y 2007.\n",
    "4. Guardar un subconjunto filtrado (por ejemplo pasajeros sobrevivientes de clase 1) a CSV en un archivo temporal y volver a leerlo."
   ]
  },
  {
   "cell_type": "code",
   "execution_count": null,
   "id": "c2a803ff",
   "metadata": {},
   "outputs": [],
   "source": [
    "# Soluciones propuestas (ejemplos rápidos)\n",
    "# Ej 1: supervivencia por Pclass y Sex\n",
    "s = combine(groupby(df, [:Pclass, :Sex]), nrow => :n, :Survived => x -> mean(x) * 100 => :pct_survived)\n",
    "sort!(s, [:Pclass, :Sex])\n",
    "println(s)\n",
    "\n",
    "# Ej 2: fare per person\n",
    "df.fare_per_person = df.Fare ./ (df.SibSp .+ df.Parch .+ 1)\n",
    "combine(groupby(df, :Pclass), :fare_per_person => mean => :mean_fare_pp, :fare_per_person => std => :sd_fare_pp)\n",
    "\n",
    "# Ej 3: gapminder crecimiento promedio gdpPercap por continente\n",
    "g = groupby(df_gap, :continent)\n",
    "resg = combine(g, :gdpPercap => x -> (last(x) - first(x)) / length(x) => :avg_growth),\n",
    "println(first(resg, 10))\n",
    "\n",
    "# Ej 4: guardar y leer CSV temporal\n",
    "tmp = tempname() * \"_survivors.csv\"\n",
    "CSV.write(tmp, filter(:Survived => ==(1) .&& :Pclass => ==(\"1\"), df))\n",
    "df_check = CSV.read(tmp, DataFrame)\n",
    "println(\"Escrito y leído: rows=\", nrow(df_check))"
   ]
  },
  {
   "cell_type": "markdown",
   "id": "c3071671",
   "metadata": {},
   "source": [
    "## 8) Recursos y próximos pasos\n",
    "\n",
    "- Documentación de DataFrames.jl: https://dataframes.juliadata.org\n",
    "- DataFramesMeta.jl para macros estilo dplyr\n",
    "- Tables.jl para interoperabilidad con otros paquetes\n",
    "- JuliaAcademy y libros recomendados\n",
    "\n",
    "Nota: en Google Colab asegúrate de usar un kernel de Julia (IJulia). Si no tienes los paquetes, instálalos desde el REPL con `using Pkg; Pkg.add(\"Nombre\")`."
   ]
  }
 ],
 "metadata": {
  "kernelspec": {
   "display_name": "Julia 1.11.7",
   "language": "julia",
   "name": "julia-1.11"
  },
  "language_info": {
   "file_extension": ".jl",
   "mimetype": "application/julia",
   "name": "julia",
   "version": "1.11.7"
  }
 },
 "nbformat": 4,
 "nbformat_minor": 5
}
