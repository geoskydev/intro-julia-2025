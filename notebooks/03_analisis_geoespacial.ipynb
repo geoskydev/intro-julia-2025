{
 "cells": [
  {
   "cell_type": "code",
   "execution_count": null,
   "id": "7d31cb55",
   "metadata": {},
   "outputs": [],
   "source": [
    "# Google Colab: Instalar estos paquetes en cada sesion\n",
    "# using Pkg\n",
    "# Pkg.add([\"ArchGDAL\", \"Rasters\", \"GeoDataFrames\"])"
   ]
  },
  {
   "cell_type": "code",
   "execution_count": null,
   "id": "7e06ff6c",
   "metadata": {},
   "outputs": [],
   "source": [
    "using Rasters, ArchGDAL, GeoDataFrames, Statistics, Plots"
   ]
  },
  {
   "cell_type": "code",
   "execution_count": null,
   "id": "510e8a38",
   "metadata": {},
   "outputs": [],
   "source": [
    "# Leer raster COG desde URL\n",
    "cog_url = \"https://os.zhdk.cloud.switch.ch/chelsav2/GLOBAL/climatologies/1981-2010/bio/CHELSA_bio10_1981-2010_V.2.1.tif\"\n",
    "r = Raster(cog_url, lazy=true)"
   ]
  },
  {
   "cell_type": "code",
   "execution_count": null,
   "id": "4778c477",
   "metadata": {},
   "outputs": [],
   "source": [
    "ecu = view(r, X(-81.0852191551 .. -75.1860925808), Y(-5.0186422241 .. 1.4629920115))"
   ]
  },
  {
   "cell_type": "code",
   "execution_count": null,
   "id": "df52d275",
   "metadata": {},
   "outputs": [],
   "source": [
    "# Resamplear raster a EPSG:32717 (UTM WGS84 17S)\n",
    "ecu_utm = Rasters.resample(ecu, res=(1000,1000), method = :bilinear, crs=EPSG(32717))"
   ]
  },
  {
   "cell_type": "code",
   "execution_count": null,
   "id": "848db2d8",
   "metadata": {},
   "outputs": [],
   "source": [
    "Plots.plot(\n",
    "    ecu_utm,\n",
    "    color=:thermal,\n",
    "    title=\"Temperatura media (1981-2010)\",\n",
    "    xlabel=\"UTM X (m)\", ylabel=\"UTM Y (m)\", colorbar_title=\"°C\",\n",
    "    aspect_ratio = :equal,\n",
    "    size=(800,600)\n",
    ")"
   ]
  },
  {
   "cell_type": "code",
   "execution_count": null,
   "id": "5e4896dc",
   "metadata": {},
   "outputs": [],
   "source": [
    "# Importar flatgeobuf desde github\n",
    "url = \"https://github.com/geoskydev/intro-julia-2025/raw/refs/heads/main/datos/cantones-ecuador.fgb\"\n",
    "cantones_poligonos = GeoDataFrames.read(url)\n",
    "first(cantones_poligonos, 5)"
   ]
  },
  {
   "cell_type": "code",
   "execution_count": null,
   "id": "0755e3f5",
   "metadata": {},
   "outputs": [],
   "source": [
    "# Estadísticas zonales: temperatura media anual por cantón\n",
    "median_temp = DataFrame(median_temp=zonal(median, ecu_utm, of=cantones_poligonos; progress=false))\n",
    "insertcols!(cantones_poligonos, :temp_mediana => median_temp.median_temp)\n",
    "first(cantones_poligonos, 5)"
   ]
  },
  {
   "cell_type": "code",
   "execution_count": null,
   "id": "a557a580",
   "metadata": {},
   "outputs": [],
   "source": [
    "Plots.plot(\n",
    "     cantones_poligonos.geometry, \n",
    "     fill_z = permutedims(cantones_poligonos.temp_mediana),\n",
    "     color = :thermal,\n",
    "     linewidth = 0.2,\n",
    "     linecolor = :black,\n",
    "     title = \"Temperatura media (1981-2010) por canton\",\n",
    "     xlabel=\"UTM X (m)\", ylabel=\"UTM Y (m)\", colorbar_title = \"°C\",\n",
    "     aspect_ratio = :equal,\n",
    "     size=(800,600)\n",
    ")"
   ]
  }
 ],
 "metadata": {
  "kernelspec": {
   "display_name": "Julia 1.11.6",
   "language": "julia",
   "name": "julia-1.11"
  },
  "language_info": {
   "file_extension": ".jl",
   "mimetype": "application/julia",
   "name": "julia",
   "version": "1.11.6"
  }
 },
 "nbformat": 4,
 "nbformat_minor": 5
}
