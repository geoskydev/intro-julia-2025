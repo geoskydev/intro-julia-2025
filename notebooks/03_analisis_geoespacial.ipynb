{
 "cells": [
  {
   "cell_type": "code",
   "execution_count": null,
   "id": "7d31cb55",
   "metadata": {},
   "outputs": [],
   "source": [
    "# Google Colab: Instalar estos paquetes en cada sesion\n",
    "# using Pkg\n",
    "# Pkg.add([\"ArchGDAL\", \"Rasters\", \"GeoDataFrames\"])"
   ]
  },
  {
   "cell_type": "code",
   "execution_count": null,
   "id": "7e06ff6c",
   "metadata": {},
   "outputs": [],
   "source": [
    "using Rasters, ArchGDAL, GeoDataFrames, Statistics, Plots"
   ]
  },
  {
   "cell_type": "code",
   "execution_count": null,
   "id": "510e8a38",
   "metadata": {},
   "outputs": [],
   "source": [
    "# Leer raster COG desde URL\n",
    "cog_url = \"https://os.zhdk.cloud.switch.ch/chelsav2/GLOBAL/climatologies/1981-2010/bio/CHELSA_bio10_1981-2010_V.2.1.tif\"\n",
    "r = Raster(cog_url, lazy=true)"
   ]
  },
  {
   "cell_type": "code",
   "execution_count": null,
   "id": "4778c477",
   "metadata": {},
   "outputs": [],
   "source": [
    "ecu = view(r, X(-81.0852191551 .. -75.1860925808), Y(-5.0186422241 .. 1.4629920115))"
   ]
  },
  {
   "cell_type": "code",
   "execution_count": null,
   "id": "df52d275",
   "metadata": {},
   "outputs": [],
   "source": [
    "# Resamplear raster a EPSG:32717 (UTM WGS84 17S)\n",
    "ecu_utm = Rasters.resample(ecu, res=(1000,1000), method = :bilinear, crs=EPSG(32717))"
   ]
  },
  {
   "cell_type": "code",
   "execution_count": null,
   "id": "848db2d8",
   "metadata": {},
   "outputs": [],
   "source": [
    "Plots.plot(\n",
    "    ecu_utm,\n",
    "    color=:thermal,\n",
    "    title=\"Temperatura media (1981-2010)\",\n",
    "    xlabel=\"UTM X (m)\", ylabel=\"UTM Y (m)\", colorbar_title=\"°C\",\n",
    "    aspect_ratio = :equal,\n",
    "    size=(800,600)\n",
    ")"
   ]
  },
  {
   "cell_type": "code",
   "execution_count": null,
   "id": "5e4896dc",
   "metadata": {},
   "outputs": [],
   "source": [
    "# Importar flatgeobuf desde github\n",
    "url = \"https://github.com/geoskydev/intro-julia-2025/raw/refs/heads/main/datos/cantones-ecuador.fgb\"\n",
    "cantones_poligonos = GeoDataFrames.read(url)\n",
    "first(cantones_poligonos, 5)"
   ]
  },
  {
   "cell_type": "code",
   "execution_count": null,
   "id": "0755e3f5",
   "metadata": {},
   "outputs": [],
   "source": [
    "# Estadísticas zonales: temperatura media anual por cantón\n",
    "median_temp = DataFrame(median_temp=zonal(median, ecu_utm, of=cantones_poligonos; progress=false))\n",
    "insertcols!(cantones_poligonos, :temp_mediana => median_temp.median_temp)\n",
    "first(cantones_poligonos, 5)"
   ]
  },
  {
   "cell_type": "code",
   "execution_count": null,
   "id": "a557a580",
   "metadata": {},
   "outputs": [],
   "source": [
    "Plots.plot(\n",
    "     cantones_poligonos.geometry, \n",
    "     fill_z = permutedims(cantones_poligonos.temp_mediana),\n",
    "     color = :thermal,\n",
    "     linewidth = 0.2,\n",
    "     linecolor = :black,\n",
    "     title = \"Temperatura media (1981-2010) por canton\",\n",
    "     xlabel=\"UTM X (m)\", ylabel=\"UTM Y (m)\", colorbar_title = \"°C\",\n",
    "     aspect_ratio = :equal,\n",
    "     size=(800,600)\n",
    ")"
   ]
  },
  {
   "cell_type": "markdown",
   "id": "8e3c6845",
   "metadata": {},
   "source": [
    "## STAC items"
   ]
  },
  {
   "cell_type": "code",
   "execution_count": null,
   "id": "98409916",
   "metadata": {},
   "outputs": [],
   "source": [
    "using STAC, Rasters, ArchGDAL, Plots"
   ]
  },
  {
   "cell_type": "code",
   "execution_count": null,
   "id": "b6edbdd6",
   "metadata": {},
   "outputs": [],
   "source": [
    "url = \"https://datacube.services.geo.ca/stac/api\"\n",
    "cat = STAC.Catalog(url)"
   ]
  },
  {
   "cell_type": "code",
   "execution_count": null,
   "id": "ae3fb2a7",
   "metadata": {},
   "outputs": [],
   "source": [
    "keys(cat)"
   ]
  },
  {
   "cell_type": "code",
   "execution_count": null,
   "id": "b3e4f65e",
   "metadata": {},
   "outputs": [],
   "source": [
    "subcat = cat[\"et-year\"]"
   ]
  },
  {
   "cell_type": "code",
   "execution_count": null,
   "id": "7e8fbdd7",
   "metadata": {},
   "outputs": [],
   "source": [
    "cog_urls = [href(item[\"cog\"]) for item in eachitem(subcat)]"
   ]
  },
  {
   "cell_type": "code",
   "execution_count": null,
   "id": "518baed0",
   "metadata": {},
   "outputs": [],
   "source": [
    "rasters_list = [Raster(r) for r in cog_urls]"
   ]
  },
  {
   "cell_type": "code",
   "execution_count": null,
   "id": "0f14a2de",
   "metadata": {},
   "outputs": [],
   "source": [
    "# Create a plot\n",
    "p = plot(layout=(6,4), size=(1500, 1500))\n",
    "\n",
    "for i in 1:length(rasters_list)\n",
    "    plot!(p, rasters_list[i], subplot=i, title=i+1999, colorbar=false, xticks=false, yticks=false, xlabel=\"\", ylabel=\"\")\n",
    "end\n",
    "\n",
    "p"
   ]
  },
  {
   "cell_type": "code",
   "execution_count": null,
   "id": "f4608964",
   "metadata": {},
   "outputs": [],
   "source": [
    "plot(\n",
    "    rasters_list[1],\n",
    "    color=:thermal,\n",
    "    title=\"Evapotranspiración 2014\",\n",
    "    xlabel=\"Longitud\",\n",
    "    ylabel=\"Latitud\",\n",
    "    xformatter=:none,\n",
    "    yformatter=:none,\n",
    "    margin=5Plots.mm,\n",
    "    colorbar_title=\"mm/año\",\n",
    "    aspect_ratio=:equal,\n",
    "    size=(800,600),\n",
    "    dpi=200\n",
    ")"
   ]
  }
 ],
 "metadata": {
  "kernelspec": {
   "display_name": "Julia 1.11.7",
   "language": "julia",
   "name": "julia-1.11"
  },
  "language_info": {
   "file_extension": ".jl",
   "mimetype": "application/julia",
   "name": "julia",
   "version": "1.11.7"
  }
 },
 "nbformat": 4,
 "nbformat_minor": 5
}
