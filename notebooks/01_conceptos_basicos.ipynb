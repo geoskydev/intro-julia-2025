{
 "cells": [
  {
   "cell_type": "markdown",
   "metadata": {},
   "source": [
    "# Julia: conceptos basicos\n",
    "\n",
    "### ¿Qué es Julia?\n",
    "Julia es un lenguaje de programación de alto nivel, dinámico y de propósito general, diseñado especialmente para la computación numérica y científica. Combina la productividad y sintaxis concisa de lenguajes como Python o MATLAB con el rendimiento cercano al código compilado en C o Fortran gracias a su compilador JIT (Just-In-Time) basado en LLVM.\n",
    "\n",
    "### Breve historia\n",
    "- Creado en el MIT a mediados de la década de 2010.\n",
    "- Primera versión pública en 2012; adopción creciente en investigación, ciencia de datos y simulación.\n",
    "- Desarrollo comunitario activo y ecosistema en expansión (paquetes para álgebra lineal, optimización, machine learning, visualización, etc.).\n",
    "\n",
    "### Diseño y filosofía\n",
    "- Tipado dinámico con posibilidad de escritura de código tipado cuando se necesita rendimiento.\n",
    "- Despacho múltiple (multiple dispatch) como principio central: las funciones se seleccionan basadas en los tipos de datos de sus argumentos, lo que favorece diseño modular y código expresivo.\n",
    "- Tipos paramétricos y un sistema de tipos flexible para combinar abstracción y eficiencia.\n",
    "- Interoperabilidad: llamadas sencillas a bibliotecas en C, Fortran, Python y R.\n",
    "- Sintaxis clara y expresiva orientada a matemáticas y notación científica.\n",
    "\n",
    "### Ventajas para la computación científica\n",
    "- Rendimiento: el compilador JIT y la especialización por tipos permiten código veloz sin sacrificar la interactividad.\n",
    "- Biblioteca estándar amplia y paquetes optimizados para operaciones numéricas intensivas.\n",
    "- Facilidad para crear prototipos de algoritmos y luego escalarlos sin reescribir en otro lenguaje.\n",
    "- Soporte nativo para arreglos multi-dimensionales, broadcasting y operaciones vectorizadas eficientes.\n",
    "- Ecosistema maduro para visualización, optimización, álgebra lineal, diferenciación automática y machine learning.\n",
    "\n",
    "### Casos de uso típicos\n",
    "- Simulación y modelado científico (física, química, biología).\n",
    "- Análisis numérico, álgebra lineal y matricial.\n",
    "- Data science y machine learning; de prototipo a produccion.\n",
    "- Optimización y problemas de investigación operativa.\n",
    "- Desarrollo de paquetes científicos y herramientas reproducibles.\n",
    "\n",
    "### Por qué puede interesarte aprender Julia\n",
    "- Productividad sin renunciar al rendimiento: escribe código limpio y ejecútalo rápido.\n",
    "- Ideal para quienes combinan investigación, análisis y programación: código de alto rendimiento.\n",
    "- Comunidad emergente y en crecimiento en sectores académicos e industriales.\n",
    "- Conceptos transferibles a otros lenguajes, mejorando tu caja de herramientas de programación.\n",
    "\n",
    "Este tutorial está diseñado para cubrir los conceptos esenciales del lenguaje de programacion Julia. Cada sección incluye una explicación teórica, ejemplos de código y un ejercicio práctico para reforzar el aprendizaje.\n",
    "\n",
    "---"
   ]
  },
  {
   "cell_type": "markdown",
   "metadata": {},
   "source": [
    "## 🚀 1. Tipos de datos básicos\n",
    "Julia es un lenguaje de tipado dinámico, pero con un tipado fuerte. Esto significa que no necesitas declarar el tipo de una variable, pero una vez que se le asigna un valor, su tipo es fijo. Esto permite una gran flexibilidad y, al mismo tiempo, optimizaciones de rendimiento."
   ]
  },
  {
   "cell_type": "markdown",
   "metadata": {},
   "source": [
    "### 1.1. Números y `Strings`\n",
    "Julia maneja de forma nativa varios tipos de números, como `Int64` (enteros de 64 bits), `Float64` (flotantes de 64 bits) y `Complex` (números complejos). Los `Strings` son inmutables."
   ]
  },
  {
   "cell_type": "code",
   "execution_count": null,
   "id": "c9aa8369",
   "metadata": {},
   "outputs": [],
   "source": [
    "# Números\n",
    "x = 10\n",
    "y = 2.5\n",
    "z = 3 + 4im\n",
    "\n",
    "# Strings\n",
    "nombre = \"Julia\"\n",
    "saludo = \"¡Hola, \" * nombre * \"!\"\n",
    "\n",
    "# Caracteres\n",
    "letra = 'J'\n",
    "\n",
    "@show typeof(x)\n",
    "@show typeof(y)\n",
    "@show typeof(z)\n",
    "@show typeof(nombre)\n",
    "@show typeof(letra)\n",
    "\n",
    "println(saludo)"
   ]
  },
  {
   "cell_type": "markdown",
   "metadata": {},
   "source": [
    "### 1.2. `Arrays` (Vectores y Matrices)\n",
    "Los `Arrays` son colecciones ordenadas y mutables. Se indexan con corchetes `[]` y la **indexación en Julia comienza en 1**. Esto es una diferencia clave con muchos otros lenguajes de programación."
   ]
  },
  {
   "cell_type": "code",
   "execution_count": null,
   "id": "907660bc",
   "metadata": {},
   "outputs": [],
   "source": [
    "# Vector (Array unidimensional)\n",
    "v = [1, 2, 3, 4, 5]\n",
    "println(\"El primer elemento es: \", v[1])\n",
    "println(\"El tipo del vector es: \", typeof(v))\n",
    "\n",
    "# Matriz (Array bidimensional)\n",
    "M = [1 2 3; 4 5 6; 7 8 9]\n",
    "println(\"La matriz es:\\n\", M)\n",
    "println(\"El elemento en la fila 2, columna 3 es: \", M[2, 3])\n",
    "println(\"El tipo de la matriz es: \", typeof(M))"
   ]
  },
  {
   "cell_type": "markdown",
   "metadata": {},
   "source": [
    "### 1.3. `Tuples` (Tuplas)\n",
    "Las `Tuples` son colecciones ordenadas e **inmutables**. Se crean con paréntesis y son útiles para agrupar datos que no van a cambiar."
   ]
  },
  {
   "cell_type": "code",
   "execution_count": null,
   "id": "621fd3e2",
   "metadata": {},
   "outputs": [],
   "source": [
    "t = (1, \"a\", 3.14)\n",
    "println(\"La tupla es: \", t)\n",
    "println(\"El segundo elemento es: \", t[2])"
   ]
  },
  {
   "cell_type": "markdown",
   "metadata": {},
   "source": [
    "### 1.4. Dictionaries (Diccionarios)\n",
    "Los `Dictionaries` son colecciones de pares clave-valor. Las claves deben ser únicas."
   ]
  },
  {
   "cell_type": "code",
   "execution_count": null,
   "metadata": {},
   "outputs": [],
   "source": [
    "# Crear un diccionario\n",
    "estudiante = Dict(\"nombre\" => \"Ana\", \"edad\" => 25, \"carrera\" => \"Matematicas\")\n",
    "println(\"El estudiante se llama: \", estudiante[\"nombre\"])\n",
    "\n",
    "# Añadir un nuevo par clave-valor\n",
    "estudiante[\"universidad\"] = \"EPN\"\n",
    "println(\"Diccionario actualizado: \", estudiante)"
   ]
  },
  {
   "cell_type": "markdown",
   "metadata": {},
   "source": [
    "### 1.5. `Sets` (Conjuntos)\n",
    "Los `Sets` son colecciones de elementos **únicos y no ordenados**. Son eficientes para comprobar la pertenencia de un elemento."
   ]
  },
  {
   "cell_type": "code",
   "execution_count": null,
   "metadata": {},
   "outputs": [],
   "source": [
    "# Crear un set\n",
    "s = Set([1, 2, 2, 3, 4, 4, 4])\n",
    "println(\"El set es: \", s) # Muestra: Set{Int64} with 4 elements: {4, 2, 3, 1}\n",
    "\n",
    "# Comprobar pertenencia\n",
    "println(\"¿El 3 está en el set? \", 3 in s)"
   ]
  },
  {
   "cell_type": "markdown",
   "metadata": {},
   "source": [
    "### 1.6. `Structs` (Estructuras)\n",
    "Las `Struct` en Julia son tipos definidos por el usuario que agrupan campos. Por defecto son **inmutables**, lo que ayuda al rendimiento; para permitir cambios usa `mutable struct`."
   ]
  },
  {
   "cell_type": "code",
   "execution_count": null,
   "metadata": {},
   "outputs": [],
   "source": [
    "# Definir una estructura (inmutable por defecto)\n",
    "struct P\n",
    "    x::Float64\n",
    "    y::Float64\n",
    "end\n",
    "\n",
    "# Crear una instancia de la estructura\n",
    "punto1 = P(7.0, 2.5)\n",
    "println(\"La coordenada x del punto 1 es: \", punto1.x)\n",
    "# punto1.y = 3.0 # Error\n",
    "\n",
    "# Definir una estructura mutable\n",
    "mutable struct Persona\n",
    "    nombre::String\n",
    "    edad::Int64\n",
    "end\n",
    "\n",
    "# Crear una instancia mutable y modificarla\n",
    "persona1 = Persona(\"Carlos\", 30)\n",
    "println(\"Edad original: \", persona1.edad)\n",
    "persona1.edad = 31\n",
    "println(\"Nueva edad: \", persona1.edad)"
   ]
  },
  {
   "cell_type": "markdown",
   "metadata": {},
   "source": [
    "#### Constructores y validación\n",
    "Julia crea automáticamente un constructor que acepta los campos en orden. Puedes definir constructores adicionales para validaciones o valores por defecto."
   ]
  },
  {
   "cell_type": "code",
   "execution_count": null,
   "metadata": {},
   "outputs": [],
   "source": [
    "struct Punto\n",
    "    x::Float64\n",
    "    y::Float64\n",
    "end\n",
    "\n",
    "# Constructor personalizado (valor por defecto para y)\n",
    "Punto(x::Float64) = Punto(x, 0.0)\n",
    "\n",
    "# Ejemplo\n",
    "p1 = Punto(2.0)    # Punto(2.0, 0.0)\n",
    "p2 = Punto(3.0, 4.0) # Punto(3.0, 4.0)\n",
    "\n",
    "@show p1\n",
    "@show p2;"
   ]
  },
  {
   "cell_type": "markdown",
   "metadata": {},
   "source": [
    "Para validaciones (por ejemplo, no permitir edades negativas):"
   ]
  },
  {
   "cell_type": "code",
   "execution_count": null,
   "metadata": {},
   "outputs": [],
   "source": [
    "mutable struct Empleado\n",
    "    nombre::String\n",
    "    edad::Int64\n",
    "    function Empleado(nombre::String, edad::Int64)\n",
    "        if edad < 0\n",
    "            error(\"La edad no puede ser negativa\")\n",
    "        end\n",
    "        new(nombre, edad)\n",
    "    end\n",
    "end\n",
    "\n",
    "Empleado(\"Ana\", 25)\n",
    "# Empleado(\"Luis\", -5) # Error"
   ]
  },
  {
   "cell_type": "markdown",
   "metadata": {},
   "source": [
    "#### Tipos paramétricos\n",
    "Permiten definir `Structs` genéricos reutilizables para distintos tipos de datos."
   ]
  },
  {
   "cell_type": "code",
   "execution_count": null,
   "metadata": {},
   "outputs": [],
   "source": [
    "struct Point{T}\n",
    "    x::T\n",
    "    y::T\n",
    "end\n",
    "\n",
    "@show Point{Int}(1, 2)\n",
    "@show Point(1.0, 2.5);   # infiere T = Float64"
   ]
  },
  {
   "cell_type": "markdown",
   "metadata": {},
   "source": [
    "#### Subtyping y abstracción\n",
    "Usa `abstract type` para crear jerarquías de tipos útiles con despacho múltiple."
   ]
  },
  {
   "cell_type": "code",
   "execution_count": null,
   "metadata": {},
   "outputs": [],
   "source": [
    "abstract type Figura end\n",
    "\n",
    "struct Circulo <: Figura\n",
    "    r::Float64\n",
    "end\n",
    "\n",
    "struct Rectangulo <: Figura\n",
    "    w::Float64\n",
    "    h::Float64\n",
    "end\n",
    "\n",
    "area(c::Circulo) = π * c.r^2\n",
    "area(r::Rectangulo) = r.w * r.h\n",
    "\n",
    "c = Circulo(2.0)\n",
    "r = Rectangulo(3.0, 4.0)\n",
    "\n",
    "function imprimir_area(f::Figura)\n",
    "    println(\"Área ($(typeof(f))) = \", area(f))\n",
    "end\n",
    "\n",
    "figs = [Circulo(2.0), Rectangulo(3.0,4.0)]\n",
    "for f in figs\n",
    "    imprimir_area(f)\n",
    "end\n"
   ]
  },
  {
   "cell_type": "code",
   "execution_count": null,
   "metadata": {},
   "outputs": [],
   "source": [
    "struct Triangulo\n",
    "    b::Float64\n",
    "    h::Float64\n",
    "end\n",
    "\n",
    "area(t::Triangulo) = 0.5 * t.b * t.h\n",
    "\n",
    "imprimir_area(Triangulo(3.0,4.0))  # Funciona, si Triangulo <: Figura"
   ]
  },
  {
   "cell_type": "markdown",
   "metadata": {},
   "source": [
    "### 🏋️ Ejercicio 1\n",
    "Crea una struct llamada Estadisticas que contenga dos campos: un Vector de números (data) y un String (descripcion). Luego, crea una instancia de esta estructura con al menos 5 números y un texto descriptivo. Por último, crea una función que reciba una instancia de Estadisticas y devuelva la suma de los números en el campo data.\n",
    "\n",
    "---"
   ]
  },
  {
   "cell_type": "markdown",
   "metadata": {},
   "source": [
    "## 🔄 2. Estructuras de control\n",
    "Las estructuras de control son el esqueleto de la lógica de un programa. Julia utiliza sintaxis similar a otros lenguajes para bucles y condicionales."
   ]
  },
  {
   "cell_type": "markdown",
   "metadata": {},
   "source": [
    "### 2.1. Condicionales: `if`, `elseif`, `else`\n",
    "La sintaxis es intuitiva. Los bloques de código se cierran con end."
   ]
  },
  {
   "cell_type": "code",
   "execution_count": null,
   "metadata": {},
   "outputs": [],
   "source": [
    "num = 15\n",
    "if num > 20\n",
    "    println(\"El número es mayor que 20.\")\n",
    "elseif num > 10\n",
    "    println(\"El número es mayor que 10 pero no mayor que 20.\")\n",
    "else\n",
    "    println(\"El número es 10 o menor.\")\n",
    "end"
   ]
  },
  {
   "cell_type": "markdown",
   "metadata": {},
   "source": [
    "### 2.2. Bucles: `for` y `while`\n",
    "El bucle for es ideal para iterar sobre colecciones. El bucle while se usa cuando la condición de parada no es conocida de antemano."
   ]
  },
  {
   "cell_type": "code",
   "execution_count": null,
   "metadata": {},
   "outputs": [],
   "source": [
    "# Bucle for\n",
    "for i in 1:5\n",
    "    println(\"Iteración número: \", i)\n",
    "end\n",
    "\n",
    "# Bucle sobre un array\n",
    "nombres = [\"Ana\", \"Pedro\", \"Sofía\"]\n",
    "for nombre in nombres\n",
    "    println(\"Hola, \", nombre)\n",
    "end\n",
    "\n",
    "# Bucle while\n",
    "i = 1\n",
    "while i <= 3\n",
    "    println(\"Contador: \", i)\n",
    "    i += 1 # Usar 'global' en el REPL\n",
    "end"
   ]
  },
  {
   "cell_type": "markdown",
   "metadata": {},
   "source": [
    "### 2.3. Mapeo de `Arrays`\n",
    "Julia tiene funciones de orden superior como map, que aplican una función a cada elemento de un array, y las comprensiones de lista, que ofrecen una sintaxis concisa y legible."
   ]
  },
  {
   "cell_type": "code",
   "execution_count": null,
   "metadata": {},
   "outputs": [],
   "source": [
    "# Usando map()\n",
    "numeros = [1, 2, 3, 4, 5]\n",
    "cuadrados = map(x -> x^2, numeros)\n",
    "println(\"Los cuadrados son: \", cuadrados)\n",
    "\n",
    "# Usando comprensión de lista (más común en Julia)\n",
    "cubos = [x^3 for x in numeros]\n",
    "println(\"Los cubos son: \", cubos)\n",
    "\n",
    "# Ejemplo con una condición\n",
    "pares_filtrados = [x for x in numeros if iseven(x)]\n",
    "println(\"Los números pares son: \", pares_filtrados)"
   ]
  },
  {
   "cell_type": "markdown",
   "metadata": {},
   "source": [
    "### 🏋️ Ejercicio 2\n",
    "Crea un Vector de 10 números aleatorios entre 1 y 100. Usa una comprensión de lista para crear un nuevo vector que contenga solo los números que son divisibles por 5. Después, usa un bucle for para imprimir cada uno de los números filtrados junto con un mensaje indicando si son pares o impares.\n",
    "\n",
    "---"
   ]
  },
  {
   "cell_type": "markdown",
   "metadata": {},
   "source": [
    "## 📈 3. Vectores y matrices\n",
    "Julia se diseñó pensando en la computación numérica, lo que la hace excepcionalmente rápida para operaciones con vectores y matrices. Es el \"lenguaje del álgebra lineal\"."
   ]
  },
  {
   "cell_type": "markdown",
   "metadata": {},
   "source": [
    "### 3.1. Creación y manipulación\n",
    "Puedes crear vectores y matrices de varias maneras. Las operaciones de álgebra lineal están altamente optimizadas y se encuentran disponibles en el paquete `LinearAlgebra`."
   ]
  },
  {
   "cell_type": "code",
   "execution_count": null,
   "metadata": {},
   "outputs": [],
   "source": [
    "using LinearAlgebra\n",
    "\n",
    "# Crear un vector de ceros\n",
    "v_zeros = zeros(5)\n",
    "\n",
    "# Crear una matriz de unos\n",
    "M_ones = ones(3, 3)\n",
    "\n",
    "# Crear una matriz identidad\n",
    "I = Diagonal(ones(4))\n",
    "println(\"Matriz identidad 4x4:\\n\", I)\n",
    "\n",
    "# Concatenar vectores y matrices\n",
    "v1 = [1, 2, 3]\n",
    "v2 = [4, 5, 6]\n",
    "v_concat = vcat(v1, v2)\n",
    "println(\"Vector concatenado: \", v_concat)\n",
    "\n",
    "m1 = [1 2; 3 4]\n",
    "m2 = [5 6; 7 8]\n",
    "m_concat = hcat(m1, m2)\n",
    "println(\"Matriz concatenada horizontalmente:\\n\", m_concat)"
   ]
  },
  {
   "cell_type": "markdown",
   "metadata": {},
   "source": [
    "### 3.2. Operaciones de álgebra lineal\n",
    "Julia usa `.` para **broadcasting** (operación elemento a elemento). El punto fuerza aplicar una función u operador a cada elemento: `sin.(x)`, `A .+ B`, `.*`, `./`, `.^`. Broadcasting fusiona operaciones encadenadas evitando copias temporales. Sin `.` la llamada es una llamada normal al método según los tipos de los argumentos; su comportamiento depende del método definido —por ejemplo:\n",
    "- `A * B` suele ser producto matricial.\n",
    "- `.*` es el producto elemento a elemento.\n",
    "\n",
    "Regla práctica: usa `.` para operaciones elemento‑a‑elemento; usa los operadores y funciones de álgebra lineal (sin `.`) para semántica matricial y rendimiento numérico óptimo."
   ]
  },
  {
   "cell_type": "code",
   "execution_count": null,
   "metadata": {},
   "outputs": [],
   "source": [
    "# Operación elemento a elemento con punto\n",
    "A = [1 2; 3 4]\n",
    "B = [5 6; 7 8]\n",
    "C = A .* B  # Multiplicación elemento a elemento\n",
    "println(\"Multiplicación elemento a elemento:\\n\", C)\n",
    "\n",
    "# Multiplicación de matrices (sin punto)\n",
    "D = A * B\n",
    "println(\"Multiplicación de matrices:\\n\", D)\n",
    "\n",
    "# Transpuesta\n",
    "At = A'\n",
    "println(\"Transpuesta de A:\\n\", At)\n",
    "\n",
    "# Inversa\n",
    "A_inv = inv(A)\n",
    "println(\"Inversa de A:\\n\", A_inv)"
   ]
  },
  {
   "cell_type": "markdown",
   "metadata": {},
   "source": [
    "### 3.3. Slicing e indexación avanzada\n",
    "Julia ofrece una sintaxis flexible para seleccionar subconjuntos de vectores y matrices."
   ]
  },
  {
   "cell_type": "code",
   "execution_count": null,
   "metadata": {},
   "outputs": [],
   "source": [
    "v = [10, 20, 30, 40, 50]\n",
    "println(\"Elementos del 2 al 4: \", v[2:4])\n",
    "\n",
    "M = [1 2 3;\n",
    "     4 5 6;\n",
    "     7 8 9]\n",
    "println(\"Fila 2 completa: \", M[2, :])\n",
    "println(\"Columna 3 completa: \", M[:, 3])\n",
    "println(\"Submatriz 1x2 de la esquina superior izquierda: \", M[1:2, 1:2])"
   ]
  },
  {
   "cell_type": "markdown",
   "metadata": {},
   "source": [
    "### 🏋️ Ejercicio 3\n",
    "Crea una matriz de 5x5 llamada X con números aleatorios entre 0 y 10. Luego, realiza las siguientes operaciones:\n",
    "* Calcula la transpuesta de X y guárdala en Y.\n",
    "* Crea un vector v de 5x1 con valores [1, 2, 3, 4, 5].\n",
    "* Calcula el producto de la matriz X por el vector v (es decir, Xv).\n",
    "* Calcula la media de todos los elementos de la segunda columna de X.\n",
    "\n",
    "---"
   ]
  },
  {
   "cell_type": "markdown",
   "metadata": {},
   "source": [
    "## ⚙️ 4. Funciones\n",
    "\n",
    "Las funciones son bloques de código reutilizables que encapsulan lógica y pueden recibir argumentos y devolver valores. En Julia, las funciones permiten escribir código claro, modular y fácil de mantener.\n",
    "\n",
    "### Despacho múltiple (multiple dispatch)\n",
    "\n",
    "Julia utiliza **despacho múltiple**, un sistema potente y flexible de polimorfismo que selecciona la implementación de una función según los tipos de todos sus argumentos, no solo del receptor. Esto facilita:\n",
    "\n",
    "- Definir comportamientos distintos para combinaciones de tipos.\n",
    "- Escribir código genérico y eficiente que se especializa automáticamente en tiempo de ejecución.\n",
    "- Extender funciones existentes añadiendo nuevos métodos sin modificar el código original.\n",
    "\n",
    "Ejemplo básico:\n",
    "```julia\n",
    "f(x::Int, y::Int) = x + y\n",
    "f(x::AbstractFloat, y::AbstractFloat) = x * y\n"
   ]
  },
  {
   "cell_type": "markdown",
   "metadata": {},
   "source": [
    "### 4.1. Definición de funciones\n",
    "Puedes definir funciones de varias maneras, incluyendo la sintaxis function ... end y la sintaxis de una sola línea."
   ]
  },
  {
   "cell_type": "code",
   "execution_count": null,
   "metadata": {},
   "outputs": [],
   "source": [
    "# Sintaxis completa\n",
    "function sumar(a, b)\n",
    "    return a + b\n",
    "end\n",
    "\n",
    "# Sintaxis de una sola línea (implica 'return')\n",
    "restar(a, b) = a - b\n",
    "\n",
    "@show sumar(5, 3)\n",
    "@show restar(10, 2);"
   ]
  },
  {
   "cell_type": "markdown",
   "metadata": {},
   "source": [
    "### 4.2. Despacho múltiple (Multiple Dispatch)\n",
    "Esta es una de las características más importantes de Julia. En lugar de despachar una función basándose solo en el tipo del primer argumento, Julia elige el método correcto basado en la combinación de tipos de todos sus argumentos. Este sistema permite escribir código genérico y especializado al mismo tiempo, lo que resulta en un rendimiento superior y un código más legible."
   ]
  },
  {
   "cell_type": "code",
   "execution_count": null,
   "metadata": {},
   "outputs": [],
   "source": [
    "# Una función para sumar enteros\n",
    "sumar_tipos(a::Int64, b::Int64) = \"Resultado de enteros: \" * string(a + b)\n",
    "\n",
    "# Un nuevo método para la misma función, pero para flotantes\n",
    "sumar_tipos(a::Float64, b::Float64) = \"Resultado de flotantes: \" * string(a + b)\n",
    "\n",
    "println(sumar_tipos(1, 2))      # Llama al método para enteros\n",
    "println(sumar_tipos(1.5, 2.5))  # Llama al método para flotantes\n",
    "\n",
    "# Si se llama con tipos mixtos, Julia puede no encontrar un método y mostrar un error\n",
    "# println(sumar_tipos(1, 2.5)) # Esto daría un error MethodError"
   ]
  },
  {
   "cell_type": "markdown",
   "metadata": {},
   "source": [
    "Aquí hay un ejemplo didáctico completo que muestra dos versiones del mismo programa: una sin despacho múltiple (usando condicionales y comprobaciones de tipo) y otra que aprovecha el despacho múltiple en Julia. El programa recibe un valor de entrada que puede ser un entero, un flotante o una tupla con dos valores enteros; según el tipo de dato, ejecuta distintas operaciones."
   ]
  },
  {
   "cell_type": "code",
   "execution_count": null,
   "metadata": {},
   "outputs": [],
   "source": [
    "# VERSION 1: Sin despacho múltiple (uso de condicionales y comprobación de tipos)\n",
    "\n",
    "# Función que procesa distintos tipos: Int, Float64, y Tuple{Int,Int}\n",
    "function procesar_sin_dispatch(x)\n",
    "    if isa(x, Int)\n",
    "        # caso Int: elevar al cuadrado\n",
    "        return x^2\n",
    "    elseif isa(x, Float64)\n",
    "        # caso Float64: devolver mitad\n",
    "        return x / 2\n",
    "    elseif isa(x, Tuple) && length(x) == 2 && isa(x[1], Int) && isa(x[2], Int)\n",
    "        # caso pareja de enteros: sumar e invertir (ejemplo arbitrario)\n",
    "        s = x[1] + x[2]\n",
    "        return (s, s != 0 ? 1/s : Inf)\n",
    "    else\n",
    "        error(\"Tipo no soportado: $(typeof(x))\")\n",
    "    end\n",
    "end\n",
    "\n",
    "# Función auxiliar: aplica procesar_sin_dispatch a cada elemento de una colección\n",
    "function aplicar_lista_sin_dispatch(lst)\n",
    "    resultado = []\n",
    "    for v in lst\n",
    "        push!(resultado, procesar_sin_dispatch(v))\n",
    "    end\n",
    "    return resultado\n",
    "end\n",
    "\n",
    "# Ejecución línea por línea (ejemplos)\n",
    "println(\"=== Sin despacho múltiple ===\")\n",
    "lista = [2, 3.0, (4,5)]\n",
    "println(\"Lista = \", lista)\n",
    "println(\"Resultado lista -> \", aplicar_lista_sin_dispatch(lista))"
   ]
  },
  {
   "cell_type": "code",
   "execution_count": null,
   "metadata": {},
   "outputs": [],
   "source": [
    "# Script 2: Con despacho múltiple (múltiples métodos según tipos)\n",
    "\n",
    "# Definimos métodos específicos para cada tipo que queremos soportar.\n",
    "\n",
    "# Caso Int: elevar al cuadrado\n",
    "procesar(x::Int) = x^2\n",
    "\n",
    "# Caso Float64: devolver mitad\n",
    "procesar(x::Float64) = x / 2\n",
    "\n",
    "# Caso Tuple de dos enteros: sumar e invertir\n",
    "procesar(x::Tuple{Int,Int}) = begin\n",
    "    s = x[1] + x[2]\n",
    "    return (s, s != 0 ? 1/s : Inf)\n",
    "end\n",
    "\n",
    "# Método genérico que toma cualquier tipo no definido explícitamente\n",
    "procesar(x) = error(\"Tipo no soportado: $(typeof(x))\")\n",
    "\n",
    "# Función auxiliar reutilizada: aplica procesar a cada elemento de una colección\n",
    "function aplicar_lista(lst)\n",
    "    resultado = Vector{Any}()\n",
    "    for v in lst\n",
    "        push!(resultado, procesar(v))\n",
    "    end\n",
    "    return resultado\n",
    "end\n",
    "\n",
    "# Ejecución línea por línea (ejemplos)\n",
    "println(\"\\n=== Con despacho múltiple ===\")\n",
    "lista = [1, 2.0, (3,4)]\n",
    "println(\"Lista = \", lista)\n",
    "println(\"Resultado lista -> \", aplicar_lista(lista))"
   ]
  },
  {
   "cell_type": "code",
   "execution_count": null,
   "metadata": {},
   "outputs": [],
   "source": [
    "# Demostración de extensión: añadimos soporte para Strings sin tocar código existente\n",
    "procesar(x::String) = try\n",
    "    n = parse(Int, x)\n",
    "    return procesar(n)  # reutiliza el método Int\n",
    "catch\n",
    "    error(\"String no convertible a Int: $x\")\n",
    "end\n",
    "\n",
    "println(\"Entrada String = \\\"7\\\" -> \", procesar(\"7\"))\n"
   ]
  },
  {
   "cell_type": "markdown",
   "metadata": {},
   "source": [
    "### 4.3. Argumentos opcionales y con palabras clave\n",
    "\n",
    "Puedes definir argumentos con valores por defecto y usar argumentos con palabras clave (keyword arguments) para que las llamadas a funciones sean más claras y explícitas.  \n",
    "- Los argumentos posicionales con valor por defecto permiten omitir parámetros al llamar.  \n",
    "- Los keyword arguments se nombran en la llamada y son útiles para valores opcionales, mejorar legibilidad y evitar ambigüedad.  \n",
    "- Los keyword arguments se declaran después de `;` en la firma y también pueden tener valores por defecto.  \n",
    "- Si quieres aceptar keywords arbitrarios, usa `kwargs...` (resulta en un `NamedTuple`)."
   ]
  },
  {
   "cell_type": "code",
   "execution_count": null,
   "metadata": {},
   "outputs": [],
   "source": [
    "# Función con argumento posicional por defecto y keyword arguments\n",
    "function saludar(nombre::String=\"mundo\"; mayus::Bool=false, saludo::String=\"Hola\")\n",
    "    texto = \"$saludo, $nombre\"\n",
    "    return mayus ? uppercase(texto) : texto\n",
    "end\n",
    "\n",
    "# Llamadas de ejemplo\n",
    "println(saludar())                              # \"Hola, mundo\"\n",
    "println(saludar(\"Ana\"))                         # \"Hola, Ana\"\n",
    "println(saludar(\"Luis\"; mayus=true))            # \"HOLA, LUIS\"\n",
    "println(saludar(\"María\"; saludo=\"Buenos días\")) # \"Buenos días, María\""
   ]
  },
  {
   "cell_type": "markdown",
   "metadata": {},
   "source": [
    "### 🏋️ Ejercicio 4\n",
    "Crea una función llamada analizar_datos que acepte un vector de números como argumento. La función debe tener un argumento opcional llamado accion con un valor por defecto de \"media\". La función debe hacer lo siguiente:\n",
    "\n",
    "* Si accion es \"media\", debe devolver la media de los números del vector.\n",
    "* Si accion es \"mediana\", debe devolver la mediana (puedes usar la función median()).\n",
    "* Si accion es \"desviacion\", debe devolver la desviación estándar (puedes usar la función std()).\n",
    "* En cualquier otro caso, debe imprimir un mensaje de error.\n",
    "\n",
    "Prueba la función con diferentes vectores y valores para el argumento accion. Recuerda que para usar median() y std(), necesitarás importar el paquete Statistics: using Statistics."
   ]
  }
 ],
 "metadata": {
  "colab": {
   "authorship_tag": "ABX9TyP26oqr7Hv+SQ5sj2YZ1orw",
   "provenance": []
  },
  "kernelspec": {
   "display_name": "Julia 1.11.6",
   "language": "julia",
   "name": "julia-1.11"
  },
  "language_info": {
   "file_extension": ".jl",
   "mimetype": "application/julia",
   "name": "julia",
   "version": "1.11.6"
  }
 },
 "nbformat": 4,
 "nbformat_minor": 0
}
